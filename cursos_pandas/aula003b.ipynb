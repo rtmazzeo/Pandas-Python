{
  "nbformat": 4,
  "nbformat_minor": 0,
  "metadata": {
    "colab": {
      "provenance": [],
      "authorship_tag": "ABX9TyO2NIm7mglZe+OG9Y/sHgf0",
      "include_colab_link": true
    },
    "kernelspec": {
      "name": "python3",
      "display_name": "Python 3"
    },
    "language_info": {
      "name": "python"
    }
  },
  "cells": [
    {
      "cell_type": "markdown",
      "metadata": {
        "id": "view-in-github",
        "colab_type": "text"
      },
      "source": [
        "<a href=\"https://colab.research.google.com/github/rtmazzeo/cursos_python/blob/main/cursos_pandas/aula003b.ipynb\" target=\"_parent\"><img src=\"https://colab.research.google.com/assets/colab-badge.svg\" alt=\"Open In Colab\"/></a>"
      ]
    },
    {
      "cell_type": "markdown",
      "source": [
        "Vamos utilizar uma nova base de dados, contendo os dados populacionais dos municípios do Brasil disponíveis a partir do censo 2022 no site do IBGE"
      ],
      "metadata": {
        "id": "BmHOV8gJo4MT"
      }
    },
    {
      "cell_type": "code",
      "execution_count": null,
      "metadata": {
        "id": "YkflPwxxonjy"
      },
      "outputs": [],
      "source": []
    }
  ]
}